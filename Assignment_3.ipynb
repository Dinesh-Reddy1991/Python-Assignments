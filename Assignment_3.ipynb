{
 "cells": [
  {
   "cell_type": "code",
   "execution_count": null,
   "metadata": {},
   "outputs": [],
   "source": [
    "1. Why are functions advantageous to have in your programs?\n",
    "\n",
    "Functions reduce the writing duplicate code So by using fuctions it will easier to reduce code noof lines,easier to read,\n",
    "easier to update."
   ]
  },
  {
   "cell_type": "code",
   "execution_count": null,
   "metadata": {},
   "outputs": [],
   "source": [
    "2. When does the code in a function run: when it's specified or when it's called?\n",
    "\n",
    "A function call is what move the program excecution in to function and the function call evaluates to the functions\n",
    "return value."
   ]
  },
  {
   "cell_type": "code",
   "execution_count": null,
   "metadata": {},
   "outputs": [],
   "source": [
    "3. What statement creates a function?\n",
    "\n",
    "The “def” keyword is a statement for defining a function in Python specify a function name followed by a colon (:) sign\n",
    "Eg:\n",
    "    def myfunction():\n",
    "        print(\"This is the way to create function in python\")"
   ]
  },
  {
   "cell_type": "code",
   "execution_count": null,
   "metadata": {},
   "outputs": [],
   "source": [
    "4. What is the difference between a function and a function call?\n",
    "\n",
    "A function call means invoking or calling that function. Unless a function is called there is no use of that function\n",
    "So the difference between the function and function call is,\n",
    "A function is procedure to achieve a particular result while function call is using this function to achive that task."
   ]
  },
  {
   "cell_type": "code",
   "execution_count": null,
   "metadata": {},
   "outputs": [],
   "source": [
    "5. How many global scopes are there in a Python program? How many local scopes?\n",
    "\n",
    "When you use an unqualified name inside a function, Python searches three scopes—the local (L), then the global (G),\n",
    "and then the built-in (B)—and stops at the first place the name is found.\n",
    "\n"
   ]
  },
  {
   "cell_type": "code",
   "execution_count": null,
   "metadata": {},
   "outputs": [],
   "source": [
    "6. What happens to variables in a local scope when the function call returns?\n",
    "\n",
    "A local variable retains its value until the next time the function is called\n",
    "\n",
    "A local variable becomes undefined after the function call completes\n",
    "\n",
    "The local variable can be used outside the function any time after the function call completes.\n",
    "\n",
    "# global scope\n",
    "X = 100               # X and func assigned in module: global\n",
    "          \n",
    "def func(Y):          # Y and Z assigned in function: locals\n",
    "    # local scope\n",
    "    Z = X + Y         # X is not assigned, so it's a global\n",
    "    return Z\n",
    "\n",
    "func(1)               # func in module: result=101\n"
   ]
  },
  {
   "cell_type": "code",
   "execution_count": null,
   "metadata": {},
   "outputs": [],
   "source": [
    "7. What is the concept of a return value? Is it possible to have a return value in an expression?\n",
    "\n",
    "A return statement is used to end the execution of the function call and “returns” the result. Yes\n",
    "possible to have a return value in an expression\n",
    "\n",
    "X = 100               # X and func assigned in module: global\n",
    "          \n",
    "def func(Y):          \n",
    "    # local scope\n",
    "           \n",
    "    return X + Y \n",
    "\n",
    "func(1)"
   ]
  },
  {
   "cell_type": "code",
   "execution_count": null,
   "metadata": {},
   "outputs": [],
   "source": [
    "8. If a function does not have a return statement, what is the return value of a call to that function?\n",
    "\n",
    "Nonetype"
   ]
  },
  {
   "cell_type": "code",
   "execution_count": null,
   "metadata": {},
   "outputs": [],
   "source": [
    "9. How do you make a function variable refer to the global variable?\n",
    "\n",
    "X = 100               # X and func assigned in module: global\n",
    "          \n",
    "def func(Y):          \n",
    "    # local scope\n",
    "           \n",
    "    return X + Y \n",
    "\n",
    "func(1)"
   ]
  },
  {
   "cell_type": "code",
   "execution_count": null,
   "metadata": {},
   "outputs": [],
   "source": [
    "10. What is the data type of None?\n",
    "\n",
    "It is a data type of the class NoneType object. Assigning a value of None to a variable is one way to reset it to its original, \n",
    "empty state\n",
    "\n",
    "x= None\n",
    "\n",
    "if x:\n",
    "    print(\"None true\")\n",
    "elif x is False:\n",
    "    print(\"none False\")\n",
    "else:\n",
    "    print(\"None Not true nor false So None is None\")"
   ]
  },
  {
   "cell_type": "code",
   "execution_count": null,
   "metadata": {},
   "outputs": [],
   "source": [
    "11. What does the sentence import areallyourpetsnamederic do?\n"
   ]
  },
  {
   "cell_type": "code",
   "execution_count": null,
   "metadata": {},
   "outputs": [],
   "source": [
    "12. If you had a bacon() feature in a spam module, what would you call it after importing spam?\n",
    "\n",
    "import spam\n",
    "spam.bacon()"
   ]
  },
  {
   "cell_type": "code",
   "execution_count": null,
   "metadata": {},
   "outputs": [],
   "source": [
    "13. What can you do to save a programme from crashing if it encounters an error?\n",
    "\n",
    "Prevents program from crashing if an error occurs. If an error occurs in a program, we dont want the program to unexpectedly crash on the user. Instead, error handling can be used to notify the user of why the error occurred and gracefully exit the\n",
    "process that caused the error.\n"
   ]
  },
  {
   "cell_type": "code",
   "execution_count": null,
   "metadata": {},
   "outputs": [],
   "source": [
    "14. What is the purpose of the try clause? What is the purpose of the except clause?\n",
    "\n",
    "It is used to test code for an error which is written in the “try” statement.\n",
    "If an error is encountered, the contents of the “except” block are run."
   ]
  }
 ],
 "metadata": {
  "kernelspec": {
   "display_name": "Python 3",
   "language": "python",
   "name": "python3"
  },
  "language_info": {
   "codemirror_mode": {
    "name": "ipython",
    "version": 3
   },
   "file_extension": ".py",
   "mimetype": "text/x-python",
   "name": "python",
   "nbconvert_exporter": "python",
   "pygments_lexer": "ipython3",
   "version": "3.8.3"
  }
 },
 "nbformat": 4,
 "nbformat_minor": 4
}
