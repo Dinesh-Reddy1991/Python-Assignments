{
 "cells": [
  {
   "cell_type": "code",
   "execution_count": null,
   "metadata": {},
   "outputs": [],
   "source": [
    "1.What are the two values of the Boolean data type? How do you write them?\n",
    "\n",
    "The two values of boolean data type is True and False\n",
    "\n",
    "\n",
    "2. What are the three different types of Boolean operators?\n",
    "\n",
    "The three basic boolean operators are: AND, OR, and NOT.\n",
    "    \n",
    "3. Make a list of each Boolean operators truth tables.\n",
    "(i.e. every possible combination of Boolean values for the operator and what it evaluate ).\n",
    "\n",
    "AND:\n",
    "    T T T\n",
    "    F T F\n",
    "    T F F\n",
    "    F F F\n",
    "OR:\n",
    "    F F F\n",
    "    F T T\n",
    "    T F T\n",
    "    T T T\n",
    "NOT:\n",
    "    F T\n",
    "    T F"
   ]
  },
  {
   "cell_type": "code",
   "execution_count": null,
   "metadata": {},
   "outputs": [],
   "source": [
    "4. What are the values of the following expressions?\n",
    "\n",
    "(5 > 4) and (3 == 5) \n"
   ]
  },
  {
   "cell_type": "code",
   "execution_count": null,
   "metadata": {},
   "outputs": [],
   "source": [
    "not (5 > 4)"
   ]
  },
  {
   "cell_type": "code",
   "execution_count": null,
   "metadata": {},
   "outputs": [],
   "source": [
    "(5 > 4) or (3 == 5)"
   ]
  },
  {
   "cell_type": "code",
   "execution_count": null,
   "metadata": {},
   "outputs": [],
   "source": [
    "not ((5 > 4) or (3 == 5))"
   ]
  },
  {
   "cell_type": "code",
   "execution_count": null,
   "metadata": {},
   "outputs": [],
   "source": [
    "(True and True) and (True == False)"
   ]
  },
  {
   "cell_type": "code",
   "execution_count": null,
   "metadata": {},
   "outputs": [],
   "source": [
    "(not False) or (not True)"
   ]
  },
  {
   "cell_type": "code",
   "execution_count": null,
   "metadata": {},
   "outputs": [],
   "source": [
    "5. What are the six comparison operators?\n",
    "\n",
    "=\n",
    ">\n",
    "<\n",
    ">=\n",
    "<=\n",
    "<>"
   ]
  },
  {
   "cell_type": "code",
   "execution_count": null,
   "metadata": {},
   "outputs": [],
   "source": [
    "6. How do you tell the difference between the equal to and assignment operators?\n",
    "Describe a condition and when you would use one.\n",
    "\n",
    "Operator(=):\n",
    "    1.It is an assignment Operator.\n",
    "    2.it is used to assign value to a variable\n",
    "Equalto(==):\n",
    "    1.it is relation and comparison operator.\n",
    "    2.it is used for comparing two values it returns 1 if both values are equal otherwise returns 0\n",
    "    "
   ]
  },
  {
   "cell_type": "code",
   "execution_count": null,
   "metadata": {},
   "outputs": [],
   "source": [
    "#7. Identify the three blocks in this code:\n",
    "spam = 0\n",
    "\"\"\"\n",
    "Below code used to validate if condition matches \n",
    "\"\"\"\n",
    "if spam == 10:\n",
    "    print('eggs')\n",
    "if spam > 5:\n",
    "    print('bacon')\n",
    "else:\n",
    "    print('ham')\n",
    "    print('spam')\n",
    "    print('spam')\n"
   ]
  },
  {
   "cell_type": "code",
   "execution_count": null,
   "metadata": {},
   "outputs": [],
   "source": [
    "#8. Write code that prints Hello if 1 is stored in spam, \n",
    "#prints Howdy if 2 is stored in spam, and prints Greetings! if anything else is stored in spam.\"\"\"\n",
    "\n",
    "\n",
    "spam =3\n",
    "\n",
    "if spam ==1:\n",
    "    print(\"Hello\")\n",
    "elif spam == 2:\n",
    "    print(\"Howdy\")\n",
    "else:\n",
    "    print(\"Greetings!\")\n",
    "    \n"
   ]
  },
  {
   "cell_type": "code",
   "execution_count": null,
   "metadata": {},
   "outputs": [],
   "source": [
    "#9.If your programme is stuck in an endless loop, what keys you’ll press?\n",
    "\n",
    "#This can be done with break keyword. break will cause the current loop to end, \n",
    "#and the computer will jump to the code directly following the loop.\n",
    "\n",
    "\n",
    "while True:\n",
    "    n = int(input('Give me an integer: '))\n",
    "\n",
    "    if n == 0:\n",
    "        break\n",
    "\n",
    "    print(str(n) + '*' + str(n) + '=' + str(n*n))\n",
    "\n",
    "print('done')\n",
    "\n"
   ]
  },
  {
   "cell_type": "code",
   "execution_count": null,
   "metadata": {},
   "outputs": [],
   "source": [
    "10. How can you tell the difference between break and continue?\n",
    "\n",
    "break and continue statements can alter the flow of a normal loop.\n",
    "\n",
    "Loops iterate over a block of code until the test expression is false, but sometimes we wish to terminate the current iteration\n",
    "or even the whole loop without checking test expression hence for this type expression we can use break and continue\n",
    "\n",
    "\n",
    "Break:\n",
    "    The break statement terminates the loop containing it. \n",
    "    Control of the program flows to the statement immediately after the body of the loop.\n",
    "Continue:\n",
    "    The continue statement is used to skip the rest of the code inside a loop for the current iteration only. \n",
    "    Loop does not terminate but continues on with the next iteration."
   ]
  },
  {
   "cell_type": "code",
   "execution_count": null,
   "metadata": {},
   "outputs": [],
   "source": [
    "#11. In a for loop, what is the difference between range(10), range(0, 10), and range(0, 10, 1)?\n",
    "\n",
    "\"\"\"range(10) , range(0, 10) , range(0, 10, 1):\n",
    "    Here range function accepts 3 arguments i.e (start,end,stepsize) by default start will be 0,and stepsize will 1\n",
    "    so for all three functions i.e range(10) range(0, 10),range(0, 10, 1) output will be from 0 to 9.\"\"\"\n",
    "    \n",
    "print(\"******** Range(0,10,1)*********\") \n",
    "for  i in range(0,10,1):\n",
    "    print(i)\n",
    "print(\"******** Range(0,10)***********\")\n",
    "for  i in range(0,10):\n",
    "    print(i)\n",
    "print(\"******** Range(0,10)***********\")\n",
    "for  i in range(0,10):\n",
    "    print(i)"
   ]
  },
  {
   "cell_type": "code",
   "execution_count": 2,
   "metadata": {},
   "outputs": [
    {
     "name": "stdout",
     "output_type": "stream",
     "text": [
      "1\n",
      "2\n",
      "3\n",
      "4\n",
      "5\n",
      "6\n",
      "7\n",
      "8\n",
      "9\n",
      "10\n"
     ]
    }
   ],
   "source": [
    "#12. Write a short program that prints the numbers 1 to 10 using a for loop. \n",
    "#Then write an equivalent program that prints the numbers 1 to 10 using a while loop.\n",
    "\n",
    "#for i in range(1,11):\n",
    "    #print(i)\n",
    "    \n",
    "i = 1\n",
    "while (i<11):\n",
    "    print(i)\n",
    "    i = i+1\n",
    "    "
   ]
  },
  {
   "cell_type": "code",
   "execution_count": null,
   "metadata": {},
   "outputs": [],
   "source": [
    "13. If you had a function named bacon() inside a module named spam, how would you call it after importing spam?\n",
    "import spam\n",
    "spam.bacon()"
   ]
  },
  {
   "cell_type": "code",
   "execution_count": null,
   "metadata": {},
   "outputs": [],
   "source": []
  },
  {
   "cell_type": "code",
   "execution_count": null,
   "metadata": {},
   "outputs": [],
   "source": []
  },
  {
   "cell_type": "code",
   "execution_count": null,
   "metadata": {},
   "outputs": [],
   "source": []
  }
 ],
 "metadata": {
  "kernelspec": {
   "display_name": "Python 3",
   "language": "python",
   "name": "python3"
  },
  "language_info": {
   "codemirror_mode": {
    "name": "ipython",
    "version": 3
   },
   "file_extension": ".py",
   "mimetype": "text/x-python",
   "name": "python",
   "nbconvert_exporter": "python",
   "pygments_lexer": "ipython3",
   "version": "3.8.3"
  }
 },
 "nbformat": 4,
 "nbformat_minor": 4
}
